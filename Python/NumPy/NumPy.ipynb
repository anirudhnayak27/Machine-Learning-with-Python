{
 "cells": [
  {
   "cell_type": "code",
   "execution_count": 94,
   "id": "522cfb71",
   "metadata": {},
   "outputs": [],
   "source": [
    "import numpy as np"
   ]
  },
  {
   "cell_type": "markdown",
   "id": "6c79e157",
   "metadata": {},
   "source": [
    "## Data Types and Attributes\n",
    "Numpy's main datatype is ndarray(n-dimensional array) "
   ]
  },
  {
   "cell_type": "code",
   "execution_count": 95,
   "id": "d516fff3",
   "metadata": {},
   "outputs": [
    {
     "data": {
      "text/plain": [
       "array([1, 2, 3, 4, 5, 6])"
      ]
     },
     "execution_count": 95,
     "metadata": {},
     "output_type": "execute_result"
    }
   ],
   "source": [
    "a1=np.array([1,2,3,4,5,6])\n",
    "a1"
   ]
  },
  {
   "cell_type": "code",
   "execution_count": 96,
   "id": "8118a067",
   "metadata": {},
   "outputs": [
    {
     "data": {
      "text/plain": [
       "numpy.ndarray"
      ]
     },
     "execution_count": 96,
     "metadata": {},
     "output_type": "execute_result"
    }
   ],
   "source": [
    "type(a1)"
   ]
  },
  {
   "cell_type": "markdown",
   "id": "1b51a5a4",
   "metadata": {},
   "source": [
    "## 2D array"
   ]
  },
  {
   "cell_type": "code",
   "execution_count": 97,
   "id": "d0c6dc36",
   "metadata": {},
   "outputs": [
    {
     "data": {
      "text/plain": [
       "array([[1, 2, 3, 4],\n",
       "       [5, 6, 7, 8]])"
      ]
     },
     "execution_count": 97,
     "metadata": {},
     "output_type": "execute_result"
    }
   ],
   "source": [
    "a2=np.array([[1,2,3,4],\n",
    "             [5,6,7,8]])\n",
    "a2"
   ]
  },
  {
   "cell_type": "markdown",
   "id": "d81af559",
   "metadata": {},
   "source": [
    "## 3D array"
   ]
  },
  {
   "cell_type": "code",
   "execution_count": 98,
   "id": "262c715a",
   "metadata": {},
   "outputs": [
    {
     "data": {
      "text/plain": [
       "array([[[ 1. ,  2. ,  3. ,  4. ],\n",
       "        [ 5. ,  6. ,  7. ,  8. ],\n",
       "        [12. , 23. , 34. , 56. ]],\n",
       "\n",
       "       [[ 8. ,  7. ,  6. ,  5. ],\n",
       "        [ 2.3,  4.5,  0. ,  9. ],\n",
       "        [ 4. ,  3. ,  2. ,  1. ]]])"
      ]
     },
     "execution_count": 98,
     "metadata": {},
     "output_type": "execute_result"
    }
   ],
   "source": [
    "a3=np.array([[[1,2,3,4],\n",
    "      [5,6,7,8],\n",
    "     [12,23,34,56]],\n",
    "     \n",
    "     [[8,7,6,5],\n",
    "      [2.3,4.5,0,9],\n",
    "      [4,3,2,1]]])\n",
    "a3"
   ]
  },
  {
   "cell_type": "code",
   "execution_count": 99,
   "id": "92afa2d6",
   "metadata": {},
   "outputs": [
    {
     "data": {
      "text/plain": [
       "((6,), (2, 4), (2, 3, 4))"
      ]
     },
     "execution_count": 99,
     "metadata": {},
     "output_type": "execute_result"
    }
   ],
   "source": [
    "a1.shape,a2.shape,a3.shape #number of row,columns of array"
   ]
  },
  {
   "cell_type": "code",
   "execution_count": 100,
   "id": "f3e1ae30",
   "metadata": {},
   "outputs": [
    {
     "data": {
      "text/plain": [
       "(1, 2, 3)"
      ]
     },
     "execution_count": 100,
     "metadata": {},
     "output_type": "execute_result"
    }
   ],
   "source": [
    "a1.ndim,a2.ndim,a3.ndim #dimension of array"
   ]
  },
  {
   "cell_type": "code",
   "execution_count": 101,
   "id": "4331b198",
   "metadata": {},
   "outputs": [
    {
     "data": {
      "text/plain": [
       "(dtype('int64'), dtype('int64'), dtype('float64'))"
      ]
     },
     "execution_count": 101,
     "metadata": {},
     "output_type": "execute_result"
    }
   ],
   "source": [
    "a1.dtype,a2.dtype,a3.dtype #data type of array"
   ]
  },
  {
   "cell_type": "code",
   "execution_count": 102,
   "id": "710d27cb",
   "metadata": {},
   "outputs": [
    {
     "data": {
      "text/plain": [
       "(6, 8, 24)"
      ]
     },
     "execution_count": 102,
     "metadata": {},
     "output_type": "execute_result"
    }
   ],
   "source": [
    "a1.size,a2.size,a3.size #size of array"
   ]
  },
  {
   "cell_type": "code",
   "execution_count": 103,
   "id": "4f7abe4c",
   "metadata": {},
   "outputs": [
    {
     "data": {
      "text/plain": [
       "(numpy.ndarray, numpy.ndarray, numpy.ndarray)"
      ]
     },
     "execution_count": 103,
     "metadata": {},
     "output_type": "execute_result"
    }
   ],
   "source": [
    "type(a1),type(a2),type(a3)#type of array"
   ]
  },
  {
   "cell_type": "code",
   "execution_count": 104,
   "id": "7c60c596",
   "metadata": {},
   "outputs": [
    {
     "data": {
      "text/html": [
       "<div>\n",
       "<style scoped>\n",
       "    .dataframe tbody tr th:only-of-type {\n",
       "        vertical-align: middle;\n",
       "    }\n",
       "\n",
       "    .dataframe tbody tr th {\n",
       "        vertical-align: top;\n",
       "    }\n",
       "\n",
       "    .dataframe thead th {\n",
       "        text-align: right;\n",
       "    }\n",
       "</style>\n",
       "<table border=\"1\" class=\"dataframe\">\n",
       "  <thead>\n",
       "    <tr style=\"text-align: right;\">\n",
       "      <th></th>\n",
       "      <th>0</th>\n",
       "      <th>1</th>\n",
       "      <th>2</th>\n",
       "      <th>3</th>\n",
       "    </tr>\n",
       "  </thead>\n",
       "  <tbody>\n",
       "    <tr>\n",
       "      <th>0</th>\n",
       "      <td>1</td>\n",
       "      <td>2</td>\n",
       "      <td>3</td>\n",
       "      <td>4</td>\n",
       "    </tr>\n",
       "    <tr>\n",
       "      <th>1</th>\n",
       "      <td>5</td>\n",
       "      <td>6</td>\n",
       "      <td>7</td>\n",
       "      <td>8</td>\n",
       "    </tr>\n",
       "  </tbody>\n",
       "</table>\n",
       "</div>"
      ],
      "text/plain": [
       "   0  1  2  3\n",
       "0  1  2  3  4\n",
       "1  5  6  7  8"
      ]
     },
     "execution_count": 104,
     "metadata": {},
     "output_type": "execute_result"
    }
   ],
   "source": [
    "import pandas as pd #creating dataframe out of array\n",
    "df=pd.DataFrame(a2)\n",
    "df"
   ]
  },
  {
   "cell_type": "markdown",
   "id": "b1689515",
   "metadata": {},
   "source": [
    "## Creating Numpy array"
   ]
  },
  {
   "cell_type": "code",
   "execution_count": 105,
   "id": "c8cd91bf",
   "metadata": {},
   "outputs": [
    {
     "data": {
      "text/plain": [
       "array([1, 2, 3, 4])"
      ]
     },
     "execution_count": 105,
     "metadata": {},
     "output_type": "execute_result"
    }
   ],
   "source": [
    "sample=np.array([1,2,3,4])\n",
    "sample"
   ]
  },
  {
   "cell_type": "code",
   "execution_count": 106,
   "id": "da330bde",
   "metadata": {},
   "outputs": [
    {
     "data": {
      "text/plain": [
       "array([[1, 1, 1],\n",
       "       [1, 1, 1]])"
      ]
     },
     "execution_count": 106,
     "metadata": {},
     "output_type": "execute_result"
    }
   ],
   "source": [
    "ones=np.ones((2,3),dtype=int)\n",
    "#default float type so dtype specified\n",
    "ones"
   ]
  },
  {
   "cell_type": "code",
   "execution_count": 107,
   "id": "3c401e20",
   "metadata": {},
   "outputs": [
    {
     "data": {
      "text/plain": [
       "array([[0, 0, 0],\n",
       "       [0, 0, 0]])"
      ]
     },
     "execution_count": 107,
     "metadata": {},
     "output_type": "execute_result"
    }
   ],
   "source": [
    "zeros=np.zeros((2,3),dtype=int)\n",
    "zeros"
   ]
  },
  {
   "cell_type": "code",
   "execution_count": 108,
   "id": "ce5991ad",
   "metadata": {},
   "outputs": [
    {
     "data": {
      "text/plain": [
       "array([1, 3, 5, 7, 9])"
      ]
     },
     "execution_count": 108,
     "metadata": {},
     "output_type": "execute_result"
    }
   ],
   "source": [
    "range_array=np.arange(1,10,2)\n",
    "range_array"
   ]
  },
  {
   "cell_type": "code",
   "execution_count": 109,
   "id": "0cc8fd53",
   "metadata": {},
   "outputs": [
    {
     "data": {
      "text/plain": [
       "array([[8, 1, 3],\n",
       "       [3, 3, 7]])"
      ]
     },
     "execution_count": 109,
     "metadata": {},
     "output_type": "execute_result"
    }
   ],
   "source": [
    "random_array=np.random.randint(0,10,(2,3))\n",
    "random_array"
   ]
  },
  {
   "cell_type": "code",
   "execution_count": 110,
   "id": "62e346c7",
   "metadata": {},
   "outputs": [
    {
     "data": {
      "text/plain": [
       "array([[0.63992102, 0.14335329, 0.94466892],\n",
       "       [0.52184832, 0.41466194, 0.26455561]])"
      ]
     },
     "execution_count": 110,
     "metadata": {},
     "output_type": "execute_result"
    }
   ],
   "source": [
    "random_array1=np.random.random((2,3))\n",
    "random_array1"
   ]
  },
  {
   "cell_type": "code",
   "execution_count": 111,
   "id": "72fa4214",
   "metadata": {},
   "outputs": [
    {
     "data": {
      "text/plain": [
       "array([[0.77423369, 0.45615033, 0.56843395],\n",
       "       [0.0187898 , 0.6176355 , 0.61209572]])"
      ]
     },
     "execution_count": 111,
     "metadata": {},
     "output_type": "execute_result"
    }
   ],
   "source": [
    "random_array2=np.random.rand(2,3)\n",
    "random_array2"
   ]
  },
  {
   "cell_type": "code",
   "execution_count": 112,
   "id": "a7146b1a",
   "metadata": {},
   "outputs": [
    {
     "data": {
      "text/plain": [
       "array([[0.07630829, 0.77991879, 0.43840923],\n",
       "       [0.72346518, 0.97798951, 0.53849587]])"
      ]
     },
     "execution_count": 112,
     "metadata": {},
     "output_type": "execute_result"
    }
   ],
   "source": [
    "np.random.seed(seed=7) #numbers do not change when rerun ,seed can be any number\n",
    "random_array3=np.random.rand(2,3)\n",
    "random_array3"
   ]
  },
  {
   "cell_type": "code",
   "execution_count": 113,
   "id": "905ec280",
   "metadata": {},
   "outputs": [
    {
     "data": {
      "text/plain": [
       "array([1, 3, 7, 8])"
      ]
     },
     "execution_count": 113,
     "metadata": {},
     "output_type": "execute_result"
    }
   ],
   "source": [
    "np.unique(random_array) #gives unique numbers in a array"
   ]
  },
  {
   "cell_type": "markdown",
   "id": "eb96cc86",
   "metadata": {},
   "source": [
    "## Viewing arrays and matrics"
   ]
  },
  {
   "cell_type": "code",
   "execution_count": 114,
   "id": "59182abd",
   "metadata": {},
   "outputs": [
    {
     "data": {
      "text/plain": [
       "(array([1, 2, 3, 4, 5, 6]),\n",
       " array([[1, 2, 3, 4],\n",
       "        [5, 6, 7, 8]]),\n",
       " array([[[ 1. ,  2. ,  3. ,  4. ],\n",
       "         [ 5. ,  6. ,  7. ,  8. ],\n",
       "         [12. , 23. , 34. , 56. ]],\n",
       " \n",
       "        [[ 8. ,  7. ,  6. ,  5. ],\n",
       "         [ 2.3,  4.5,  0. ,  9. ],\n",
       "         [ 4. ,  3. ,  2. ,  1. ]]]))"
      ]
     },
     "execution_count": 114,
     "metadata": {},
     "output_type": "execute_result"
    }
   ],
   "source": [
    "a1,a2,a3 #arrays from above"
   ]
  },
  {
   "cell_type": "code",
   "execution_count": 115,
   "id": "34906bae",
   "metadata": {},
   "outputs": [
    {
     "data": {
      "text/plain": [
       "1"
      ]
     },
     "execution_count": 115,
     "metadata": {},
     "output_type": "execute_result"
    }
   ],
   "source": [
    "a1[0] #return element at index 0"
   ]
  },
  {
   "cell_type": "code",
   "execution_count": 116,
   "id": "ea83884d",
   "metadata": {},
   "outputs": [
    {
     "data": {
      "text/plain": [
       "array([1, 2, 3, 4])"
      ]
     },
     "execution_count": 116,
     "metadata": {},
     "output_type": "execute_result"
    }
   ],
   "source": [
    "a2[0] #return row at index 0"
   ]
  },
  {
   "cell_type": "code",
   "execution_count": 117,
   "id": "adec3567",
   "metadata": {},
   "outputs": [
    {
     "data": {
      "text/plain": [
       "array([[[ 1. ,  2. ,  3. ,  4. ],\n",
       "        [ 5. ,  6. ,  7. ,  8. ],\n",
       "        [12. , 23. , 34. , 56. ]],\n",
       "\n",
       "       [[ 8. ,  7. ,  6. ,  5. ],\n",
       "        [ 2.3,  4.5,  0. ,  9. ],\n",
       "        [ 4. ,  3. ,  2. ,  1. ]]])"
      ]
     },
     "execution_count": 117,
     "metadata": {},
     "output_type": "execute_result"
    }
   ],
   "source": [
    "a3"
   ]
  },
  {
   "cell_type": "code",
   "execution_count": 118,
   "id": "e27e95db",
   "metadata": {},
   "outputs": [
    {
     "data": {
      "text/plain": [
       "array([[1, 2],\n",
       "       [5, 6]])"
      ]
     },
     "execution_count": 118,
     "metadata": {},
     "output_type": "execute_result"
    }
   ],
   "source": [
    "a2[:2, :2]"
   ]
  },
  {
   "cell_type": "code",
   "execution_count": 119,
   "id": "122a22a6",
   "metadata": {},
   "outputs": [
    {
     "data": {
      "text/plain": [
       "array([[[[8, 9, 8, 7, 6],\n",
       "         [4, 0, 7, 0, 7],\n",
       "         [6, 3, 5, 8, 8],\n",
       "         [7, 5, 0, 0, 2]],\n",
       "\n",
       "        [[8, 9, 6, 4, 9],\n",
       "         [7, 3, 3, 8, 3],\n",
       "         [0, 1, 0, 0, 6],\n",
       "         [7, 7, 9, 3, 0]],\n",
       "\n",
       "        [[7, 7, 7, 0, 5],\n",
       "         [4, 3, 1, 3, 1],\n",
       "         [3, 4, 3, 1, 9],\n",
       "         [5, 9, 1, 2, 3]]],\n",
       "\n",
       "\n",
       "       [[[2, 2, 5, 7, 3],\n",
       "         [0, 9, 9, 3, 4],\n",
       "         [5, 3, 0, 4, 8],\n",
       "         [6, 7, 2, 7, 3]],\n",
       "\n",
       "        [[8, 6, 6, 5, 6],\n",
       "         [5, 7, 1, 5, 4],\n",
       "         [4, 9, 9, 0, 6],\n",
       "         [2, 6, 8, 2, 4]],\n",
       "\n",
       "        [[1, 6, 1, 5, 1],\n",
       "         [6, 9, 8, 6, 5],\n",
       "         [9, 7, 5, 4, 9],\n",
       "         [6, 8, 1, 5, 5]]]])"
      ]
     },
     "execution_count": 119,
     "metadata": {},
     "output_type": "execute_result"
    }
   ],
   "source": [
    "a4=np.random.randint(10,size=(2,3,4,5))\n",
    "a4"
   ]
  },
  {
   "cell_type": "code",
   "execution_count": 120,
   "id": "1b357d26",
   "metadata": {},
   "outputs": [
    {
     "data": {
      "text/plain": [
       "((2, 3, 4, 5), 4)"
      ]
     },
     "execution_count": 120,
     "metadata": {},
     "output_type": "execute_result"
    }
   ],
   "source": [
    "a4.shape,a4.ndim"
   ]
  },
  {
   "cell_type": "code",
   "execution_count": 121,
   "id": "24b51820",
   "metadata": {},
   "outputs": [
    {
     "data": {
      "text/plain": [
       "array([[[[8, 9, 8, 7],\n",
       "         [4, 0, 7, 0],\n",
       "         [6, 3, 5, 8],\n",
       "         [7, 5, 0, 0]],\n",
       "\n",
       "        [[8, 9, 6, 4],\n",
       "         [7, 3, 3, 8],\n",
       "         [0, 1, 0, 0],\n",
       "         [7, 7, 9, 3]],\n",
       "\n",
       "        [[7, 7, 7, 0],\n",
       "         [4, 3, 1, 3],\n",
       "         [3, 4, 3, 1],\n",
       "         [5, 9, 1, 2]]],\n",
       "\n",
       "\n",
       "       [[[2, 2, 5, 7],\n",
       "         [0, 9, 9, 3],\n",
       "         [5, 3, 0, 4],\n",
       "         [6, 7, 2, 7]],\n",
       "\n",
       "        [[8, 6, 6, 5],\n",
       "         [5, 7, 1, 5],\n",
       "         [4, 9, 9, 0],\n",
       "         [2, 6, 8, 2]],\n",
       "\n",
       "        [[1, 6, 1, 5],\n",
       "         [6, 9, 8, 6],\n",
       "         [9, 7, 5, 4],\n",
       "         [6, 8, 1, 5]]]])"
      ]
     },
     "execution_count": 121,
     "metadata": {},
     "output_type": "execute_result"
    }
   ],
   "source": [
    "#get first 4 numbers of inner most array\n",
    "a4[:, :, :, :4]"
   ]
  },
  {
   "cell_type": "code",
   "execution_count": 122,
   "id": "c39a9cba",
   "metadata": {},
   "outputs": [
    {
     "data": {
      "text/plain": [
       "array([[[[8],\n",
       "         [4],\n",
       "         [6],\n",
       "         [7]],\n",
       "\n",
       "        [[8],\n",
       "         [7],\n",
       "         [0],\n",
       "         [7]],\n",
       "\n",
       "        [[7],\n",
       "         [4],\n",
       "         [3],\n",
       "         [5]]],\n",
       "\n",
       "\n",
       "       [[[2],\n",
       "         [0],\n",
       "         [5],\n",
       "         [6]],\n",
       "\n",
       "        [[8],\n",
       "         [5],\n",
       "         [4],\n",
       "         [2]],\n",
       "\n",
       "        [[1],\n",
       "         [6],\n",
       "         [9],\n",
       "         [6]]]])"
      ]
     },
     "execution_count": 122,
     "metadata": {},
     "output_type": "execute_result"
    }
   ],
   "source": [
    "#get first 1 numbers of inner most array\n",
    "a4[:, :, :, :1]"
   ]
  },
  {
   "cell_type": "markdown",
   "id": "38fa121a",
   "metadata": {},
   "source": [
    "## Manipulating and comparing arraya"
   ]
  },
  {
   "cell_type": "markdown",
   "id": "68827552",
   "metadata": {},
   "source": [
    "### Arithematic"
   ]
  },
  {
   "cell_type": "code",
   "execution_count": 123,
   "id": "1e070dd8",
   "metadata": {},
   "outputs": [],
   "source": [
    "a1=a1.reshape(2,3) #shapes should be same so reshape is used"
   ]
  },
  {
   "cell_type": "code",
   "execution_count": 124,
   "id": "a4c8ec59",
   "metadata": {},
   "outputs": [
    {
     "data": {
      "text/plain": [
       "(array([[1, 2, 3],\n",
       "        [4, 5, 6]]),\n",
       " array([[1, 1, 1],\n",
       "        [1, 1, 1]]))"
      ]
     },
     "execution_count": 124,
     "metadata": {},
     "output_type": "execute_result"
    }
   ],
   "source": [
    "a1,ones"
   ]
  },
  {
   "cell_type": "code",
   "execution_count": 125,
   "id": "b5c9a8a2",
   "metadata": {},
   "outputs": [
    {
     "data": {
      "text/plain": [
       "array([[2, 3, 4],\n",
       "       [5, 6, 7]])"
      ]
     },
     "execution_count": 125,
     "metadata": {},
     "output_type": "execute_result"
    }
   ],
   "source": [
    "a1+ones"
   ]
  },
  {
   "cell_type": "code",
   "execution_count": 126,
   "id": "d358e90b",
   "metadata": {},
   "outputs": [
    {
     "data": {
      "text/plain": [
       "array([[2, 3, 4],\n",
       "       [5, 6, 7]])"
      ]
     },
     "execution_count": 126,
     "metadata": {},
     "output_type": "execute_result"
    }
   ],
   "source": [
    "np.add(a1,ones)"
   ]
  },
  {
   "cell_type": "code",
   "execution_count": 127,
   "id": "a9f62546",
   "metadata": {},
   "outputs": [
    {
     "data": {
      "text/plain": [
       "array([[0, 1, 2],\n",
       "       [3, 4, 5]])"
      ]
     },
     "execution_count": 127,
     "metadata": {},
     "output_type": "execute_result"
    }
   ],
   "source": [
    "a1-ones"
   ]
  },
  {
   "cell_type": "code",
   "execution_count": 128,
   "id": "a8469c68",
   "metadata": {},
   "outputs": [
    {
     "data": {
      "text/plain": [
       "array([[0, 1, 2],\n",
       "       [3, 4, 5]])"
      ]
     },
     "execution_count": 128,
     "metadata": {},
     "output_type": "execute_result"
    }
   ],
   "source": [
    "np.subtract(a1,ones)"
   ]
  },
  {
   "cell_type": "code",
   "execution_count": 129,
   "id": "25f2d997",
   "metadata": {},
   "outputs": [
    {
     "data": {
      "text/plain": [
       "array([[2, 2, 2],\n",
       "       [2, 2, 2]])"
      ]
     },
     "execution_count": 129,
     "metadata": {},
     "output_type": "execute_result"
    }
   ],
   "source": [
    "ones*2"
   ]
  },
  {
   "cell_type": "code",
   "execution_count": 130,
   "id": "b204b5e2",
   "metadata": {},
   "outputs": [
    {
     "data": {
      "text/plain": [
       "array([[2, 2, 2],\n",
       "       [2, 2, 2]])"
      ]
     },
     "execution_count": 130,
     "metadata": {},
     "output_type": "execute_result"
    }
   ],
   "source": [
    "np.multiply(ones,2)"
   ]
  },
  {
   "cell_type": "code",
   "execution_count": 131,
   "id": "6c4ca82e",
   "metadata": {},
   "outputs": [
    {
     "data": {
      "text/plain": [
       "array([[1, 2, 3],\n",
       "       [4, 5, 6]])"
      ]
     },
     "execution_count": 131,
     "metadata": {},
     "output_type": "execute_result"
    }
   ],
   "source": [
    "a1*ones"
   ]
  },
  {
   "cell_type": "code",
   "execution_count": 132,
   "id": "2810485f",
   "metadata": {},
   "outputs": [
    {
     "data": {
      "text/plain": [
       "array([[1., 2., 3.],\n",
       "       [4., 5., 6.]])"
      ]
     },
     "execution_count": 132,
     "metadata": {},
     "output_type": "execute_result"
    }
   ],
   "source": [
    "a1/ones"
   ]
  },
  {
   "cell_type": "code",
   "execution_count": 133,
   "id": "4ad9e634",
   "metadata": {},
   "outputs": [
    {
     "data": {
      "text/plain": [
       "array([[ 1,  4,  9],\n",
       "       [20, 30, 42]])"
      ]
     },
     "execution_count": 133,
     "metadata": {},
     "output_type": "execute_result"
    }
   ],
   "source": [
    "a1[:3]*a2[:,:3]"
   ]
  },
  {
   "cell_type": "code",
   "execution_count": 134,
   "id": "6c7c42cd",
   "metadata": {},
   "outputs": [
    {
     "data": {
      "text/plain": [
       "array([[1, 0, 1],\n",
       "       [0, 1, 0]])"
      ]
     },
     "execution_count": 134,
     "metadata": {},
     "output_type": "execute_result"
    }
   ],
   "source": [
    "a1%2"
   ]
  },
  {
   "cell_type": "code",
   "execution_count": 135,
   "id": "377eac5c",
   "metadata": {},
   "outputs": [
    {
     "data": {
      "text/plain": [
       "array([[0, 1, 1],\n",
       "       [2, 2, 3]])"
      ]
     },
     "execution_count": 135,
     "metadata": {},
     "output_type": "execute_result"
    }
   ],
   "source": [
    "a1//2 #return rounded value"
   ]
  },
  {
   "cell_type": "code",
   "execution_count": 136,
   "id": "54f4f1be",
   "metadata": {},
   "outputs": [
    {
     "data": {
      "text/plain": [
       "array([[  3.,   7.,  20.],\n",
       "       [ 55., 148., 403.]])"
      ]
     },
     "execution_count": 136,
     "metadata": {},
     "output_type": "execute_result"
    }
   ],
   "source": [
    "np.exp(a1).round()"
   ]
  },
  {
   "cell_type": "code",
   "execution_count": 137,
   "id": "da4c0362",
   "metadata": {},
   "outputs": [
    {
     "data": {
      "text/plain": [
       "array([[0.        , 0.69314718, 1.09861229],\n",
       "       [1.38629436, 1.60943791, 1.79175947]])"
      ]
     },
     "execution_count": 137,
     "metadata": {},
     "output_type": "execute_result"
    }
   ],
   "source": [
    "np.log(a1)"
   ]
  },
  {
   "cell_type": "markdown",
   "id": "2d959671",
   "metadata": {},
   "source": [
    "### Aggregation\n",
    "aggregation =preforming some operation on number(cluster)of things"
   ]
  },
  {
   "cell_type": "code",
   "execution_count": 138,
   "id": "98d0d7bb",
   "metadata": {},
   "outputs": [
    {
     "data": {
      "text/plain": [
       "6"
      ]
     },
     "execution_count": 138,
     "metadata": {},
     "output_type": "execute_result"
    }
   ],
   "source": [
    "list1=[1,2,3]\n",
    "sum(list1)"
   ]
  },
  {
   "cell_type": "code",
   "execution_count": 139,
   "id": "82165a28",
   "metadata": {},
   "outputs": [
    {
     "data": {
      "text/plain": [
       "array([5, 7, 9])"
      ]
     },
     "execution_count": 139,
     "metadata": {},
     "output_type": "execute_result"
    }
   ],
   "source": [
    "sum(a1)"
   ]
  },
  {
   "cell_type": "markdown",
   "id": "1d2b63fe",
   "metadata": {},
   "source": [
    "Use python method('sum()') on pythondatatypes and Numpy method ('np.sum()')\n",
    "on numpy datatypes."
   ]
  },
  {
   "cell_type": "code",
   "execution_count": 140,
   "id": "27f5a26b",
   "metadata": {},
   "outputs": [
    {
     "data": {
      "text/plain": [
       "array([0.9435772 , 0.73779928, 0.041573  , 0.75778036, 0.513401  ,\n",
       "       0.17842575, 0.39200156, 0.93959276, 0.21291858, 0.81329627,\n",
       "       0.40364858, 0.58672092, 0.18599889, 0.81232251, 0.58084741,\n",
       "       0.44693254, 0.79808141, 0.54427185, 0.41841659, 0.01915666,\n",
       "       0.68377373, 0.48809792, 0.22057967, 0.55054305, 0.52259111,\n",
       "       0.48755248, 0.26303148, 0.52728579, 0.98446573, 0.62342345,\n",
       "       0.62955693, 0.9099729 , 0.96251949, 0.5850998 , 0.16489774,\n",
       "       0.39159332, 0.94455493, 0.34339118, 0.70507037, 0.4628868 ,\n",
       "       0.38679069, 0.52843256, 0.82168992, 0.63847702, 0.86288872,\n",
       "       0.63662654, 0.99929706, 0.51778008, 0.32761664, 0.09877324,\n",
       "       0.5667664 , 0.21520794, 0.01179079, 0.29921532, 0.03897743,\n",
       "       0.97621382, 0.55145308, 0.07171621, 0.34006782, 0.24290239,\n",
       "       0.10735082, 0.77033058, 0.35060155, 0.18764274, 0.91265269,\n",
       "       0.86114826, 0.39889823, 0.54633644, 0.45037544, 0.69359919,\n",
       "       0.21384609, 0.3237989 , 0.73989292, 0.18257051, 0.69602194,\n",
       "       0.52673506, 0.19849106, 0.65046402, 0.50977649, 0.68903717,\n",
       "       0.57342801, 0.77011832, 0.39304825, 0.95858995, 0.97805187,\n",
       "       0.20688114, 0.4760013 , 0.79016346, 0.12793637, 0.82699424,\n",
       "       0.23743592, 0.94056563, 0.82065819, 0.05175957, 0.00185465,\n",
       "       0.17697245, 0.53842584, 0.53801619, 0.51176963, 0.24218589])"
      ]
     },
     "execution_count": 140,
     "metadata": {},
     "output_type": "execute_result"
    }
   ],
   "source": [
    "#creating massive numpy array\n",
    "huge=np.random.random(100000)\n",
    "huge[:100]"
   ]
  },
  {
   "cell_type": "code",
   "execution_count": 141,
   "id": "3103bb86",
   "metadata": {},
   "outputs": [
    {
     "name": "stdout",
     "output_type": "stream",
     "text": [
      "10.9 ms ± 232 µs per loop (mean ± std. dev. of 7 runs, 100 loops each)\n",
      "55.7 µs ± 5.12 µs per loop (mean ± std. dev. of 7 runs, 10,000 loops each)\n"
     ]
    }
   ],
   "source": [
    "%timeit sum(huge) #python sum( ) time\n",
    "%timeit np.sum(huge) #numpy np.sum() time"
   ]
  },
  {
   "cell_type": "code",
   "execution_count": 142,
   "id": "01d1eb2a",
   "metadata": {},
   "outputs": [
    {
     "data": {
      "text/plain": [
       "array([[1, 2, 3, 4],\n",
       "       [5, 6, 7, 8]])"
      ]
     },
     "execution_count": 142,
     "metadata": {},
     "output_type": "execute_result"
    }
   ],
   "source": [
    "a2"
   ]
  },
  {
   "cell_type": "code",
   "execution_count": 143,
   "id": "6d5d6b4d",
   "metadata": {},
   "outputs": [
    {
     "data": {
      "text/plain": [
       "4.5"
      ]
     },
     "execution_count": 143,
     "metadata": {},
     "output_type": "execute_result"
    }
   ],
   "source": [
    "np.mean(a2)"
   ]
  },
  {
   "cell_type": "code",
   "execution_count": 144,
   "id": "695a94dd",
   "metadata": {},
   "outputs": [
    {
     "data": {
      "text/plain": [
       "8"
      ]
     },
     "execution_count": 144,
     "metadata": {},
     "output_type": "execute_result"
    }
   ],
   "source": [
    "np.max(a2)"
   ]
  },
  {
   "cell_type": "code",
   "execution_count": 145,
   "id": "4dcaf686",
   "metadata": {},
   "outputs": [
    {
     "data": {
      "text/plain": [
       "1"
      ]
     },
     "execution_count": 145,
     "metadata": {},
     "output_type": "execute_result"
    }
   ],
   "source": [
    "np.min(a2)"
   ]
  },
  {
   "cell_type": "code",
   "execution_count": 146,
   "id": "5b1c6b06",
   "metadata": {},
   "outputs": [
    {
     "data": {
      "text/plain": [
       "2.29128784747792"
      ]
     },
     "execution_count": 146,
     "metadata": {},
     "output_type": "execute_result"
    }
   ],
   "source": [
    "np.std(a2) #standard deviation"
   ]
  },
  {
   "cell_type": "code",
   "execution_count": 147,
   "id": "30a5fa73",
   "metadata": {},
   "outputs": [
    {
     "data": {
      "text/plain": [
       "5.25"
      ]
     },
     "execution_count": 147,
     "metadata": {},
     "output_type": "execute_result"
    }
   ],
   "source": [
    "np.var(a2) #variance"
   ]
  },
  {
   "cell_type": "markdown",
   "id": "384d439a",
   "metadata": {},
   "source": [
    "### reshaping and transpose"
   ]
  },
  {
   "cell_type": "code",
   "execution_count": 148,
   "id": "9f1915ba",
   "metadata": {},
   "outputs": [
    {
     "data": {
      "text/plain": [
       "(array([[1, 2, 3, 4],\n",
       "        [5, 6, 7, 8]]),\n",
       " array([[[ 1. ,  2. ,  3. ,  4. ],\n",
       "         [ 5. ,  6. ,  7. ,  8. ],\n",
       "         [12. , 23. , 34. , 56. ]],\n",
       " \n",
       "        [[ 8. ,  7. ,  6. ,  5. ],\n",
       "         [ 2.3,  4.5,  0. ,  9. ],\n",
       "         [ 4. ,  3. ,  2. ,  1. ]]]))"
      ]
     },
     "execution_count": 148,
     "metadata": {},
     "output_type": "execute_result"
    }
   ],
   "source": [
    "a2,a3"
   ]
  },
  {
   "cell_type": "code",
   "execution_count": 149,
   "id": "1e9077a6",
   "metadata": {},
   "outputs": [
    {
     "data": {
      "text/plain": [
       "(4, 2)"
      ]
     },
     "execution_count": 149,
     "metadata": {},
     "output_type": "execute_result"
    }
   ],
   "source": [
    "a2.T.shape"
   ]
  },
  {
   "cell_type": "code",
   "execution_count": 150,
   "id": "decc8bc9",
   "metadata": {},
   "outputs": [
    {
     "data": {
      "text/plain": [
       "array([[1, 5],\n",
       "       [2, 6],\n",
       "       [3, 7],\n",
       "       [4, 8]])"
      ]
     },
     "execution_count": 150,
     "metadata": {},
     "output_type": "execute_result"
    }
   ],
   "source": [
    "a2.T"
   ]
  },
  {
   "cell_type": "markdown",
   "id": "b399769f",
   "metadata": {},
   "source": [
    "### Dot product"
   ]
  },
  {
   "cell_type": "code",
   "execution_count": 151,
   "id": "814e8e71",
   "metadata": {},
   "outputs": [
    {
     "data": {
      "text/plain": [
       "(array([[4, 9, 6],\n",
       "        [3, 3, 7],\n",
       "        [7, 9, 7],\n",
       "        [8, 9, 8],\n",
       "        [7, 6, 4]]),\n",
       " array([[0, 7, 0],\n",
       "        [7, 6, 3],\n",
       "        [5, 8, 8],\n",
       "        [7, 5, 0],\n",
       "        [0, 2, 8]]))"
      ]
     },
     "execution_count": 151,
     "metadata": {},
     "output_type": "execute_result"
    }
   ],
   "source": [
    "np.random.seed(7)\n",
    "mat1=np.random.randint(10,size=(5,3))\n",
    "mat2=np.random.randint(10,size=(5,3))\n",
    "mat1,mat2"
   ]
  },
  {
   "cell_type": "code",
   "execution_count": 152,
   "id": "82bbae4d",
   "metadata": {},
   "outputs": [
    {
     "data": {
      "text/plain": [
       "array([[ 0, 63,  0],\n",
       "       [21, 18, 21],\n",
       "       [35, 72, 56],\n",
       "       [56, 45,  0],\n",
       "       [ 0, 12, 32]])"
      ]
     },
     "execution_count": 152,
     "metadata": {},
     "output_type": "execute_result"
    }
   ],
   "source": [
    "#element wise multiplication (hadamard product)\n",
    "mat1*mat2"
   ]
  },
  {
   "cell_type": "code",
   "execution_count": 153,
   "id": "f0ef5ebb",
   "metadata": {},
   "outputs": [],
   "source": [
    "mat3=np.dot(mat1,mat2.T)"
   ]
  },
  {
   "cell_type": "code",
   "execution_count": 154,
   "id": "a0d351e6",
   "metadata": {},
   "outputs": [
    {
     "data": {
      "text/plain": [
       "array([[ 63, 100, 140,  73,  66],\n",
       "       [ 21,  60,  95,  36,  62],\n",
       "       [ 63, 124, 163,  94,  74],\n",
       "       [ 63, 134, 176, 101,  82],\n",
       "       [ 42,  97, 115,  79,  44]])"
      ]
     },
     "execution_count": 154,
     "metadata": {},
     "output_type": "execute_result"
    }
   ],
   "source": [
    "mat3"
   ]
  },
  {
   "cell_type": "code",
   "execution_count": 155,
   "id": "3874641b",
   "metadata": {},
   "outputs": [
    {
     "data": {
      "text/plain": [
       "array([[12, 15,  0],\n",
       "       [ 3,  3,  7],\n",
       "       [ 9, 19, 18],\n",
       "       [ 4,  6, 12],\n",
       "       [ 1,  6,  7]])"
      ]
     },
     "execution_count": 155,
     "metadata": {},
     "output_type": "execute_result"
    }
   ],
   "source": [
    "np.random.seed(0)\n",
    "sales=np.random.randint(20,size=(5,3))\n",
    "sales"
   ]
  },
  {
   "cell_type": "code",
   "execution_count": 156,
   "id": "b674ad38",
   "metadata": {},
   "outputs": [
    {
     "data": {
      "text/html": [
       "<div>\n",
       "<style scoped>\n",
       "    .dataframe tbody tr th:only-of-type {\n",
       "        vertical-align: middle;\n",
       "    }\n",
       "\n",
       "    .dataframe tbody tr th {\n",
       "        vertical-align: top;\n",
       "    }\n",
       "\n",
       "    .dataframe thead th {\n",
       "        text-align: right;\n",
       "    }\n",
       "</style>\n",
       "<table border=\"1\" class=\"dataframe\">\n",
       "  <thead>\n",
       "    <tr style=\"text-align: right;\">\n",
       "      <th></th>\n",
       "      <th>almond</th>\n",
       "      <th>peanut</th>\n",
       "      <th>cashew</th>\n",
       "    </tr>\n",
       "  </thead>\n",
       "  <tbody>\n",
       "    <tr>\n",
       "      <th>mon</th>\n",
       "      <td>12</td>\n",
       "      <td>15</td>\n",
       "      <td>0</td>\n",
       "    </tr>\n",
       "    <tr>\n",
       "      <th>tue</th>\n",
       "      <td>3</td>\n",
       "      <td>3</td>\n",
       "      <td>7</td>\n",
       "    </tr>\n",
       "    <tr>\n",
       "      <th>wed</th>\n",
       "      <td>9</td>\n",
       "      <td>19</td>\n",
       "      <td>18</td>\n",
       "    </tr>\n",
       "    <tr>\n",
       "      <th>thr</th>\n",
       "      <td>4</td>\n",
       "      <td>6</td>\n",
       "      <td>12</td>\n",
       "    </tr>\n",
       "    <tr>\n",
       "      <th>fri</th>\n",
       "      <td>1</td>\n",
       "      <td>6</td>\n",
       "      <td>7</td>\n",
       "    </tr>\n",
       "  </tbody>\n",
       "</table>\n",
       "</div>"
      ],
      "text/plain": [
       "     almond  peanut  cashew\n",
       "mon      12      15       0\n",
       "tue       3       3       7\n",
       "wed       9      19      18\n",
       "thr       4       6      12\n",
       "fri       1       6       7"
      ]
     },
     "execution_count": 156,
     "metadata": {},
     "output_type": "execute_result"
    }
   ],
   "source": [
    "weekly_sales=pd.DataFrame(sales,index=[\"mon\",'tue','wed','thr','fri'],columns=['almond','peanut','cashew'])\n",
    "weekly_sales"
   ]
  },
  {
   "cell_type": "code",
   "execution_count": 157,
   "id": "25ff131b",
   "metadata": {},
   "outputs": [
    {
     "data": {
      "text/plain": [
       "array([10,  8, 12])"
      ]
     },
     "execution_count": 157,
     "metadata": {},
     "output_type": "execute_result"
    }
   ],
   "source": [
    "prices=np.array([10,8,12])\n",
    "prices"
   ]
  },
  {
   "cell_type": "code",
   "execution_count": 158,
   "id": "641522aa",
   "metadata": {},
   "outputs": [
    {
     "data": {
      "text/html": [
       "<div>\n",
       "<style scoped>\n",
       "    .dataframe tbody tr th:only-of-type {\n",
       "        vertical-align: middle;\n",
       "    }\n",
       "\n",
       "    .dataframe tbody tr th {\n",
       "        vertical-align: top;\n",
       "    }\n",
       "\n",
       "    .dataframe thead th {\n",
       "        text-align: right;\n",
       "    }\n",
       "</style>\n",
       "<table border=\"1\" class=\"dataframe\">\n",
       "  <thead>\n",
       "    <tr style=\"text-align: right;\">\n",
       "      <th></th>\n",
       "      <th>almond</th>\n",
       "      <th>peanut</th>\n",
       "      <th>cashew</th>\n",
       "    </tr>\n",
       "  </thead>\n",
       "  <tbody>\n",
       "    <tr>\n",
       "      <th>Prices</th>\n",
       "      <td>10</td>\n",
       "      <td>8</td>\n",
       "      <td>12</td>\n",
       "    </tr>\n",
       "  </tbody>\n",
       "</table>\n",
       "</div>"
      ],
      "text/plain": [
       "        almond  peanut  cashew\n",
       "Prices      10       8      12"
      ]
     },
     "execution_count": 158,
     "metadata": {},
     "output_type": "execute_result"
    }
   ],
   "source": [
    "nut_price=pd.DataFrame(prices.reshape(1,3),index=['Prices'],columns=['almond','peanut','cashew'])\n",
    "nut_price"
   ]
  },
  {
   "cell_type": "code",
   "execution_count": 159,
   "id": "dbf92570",
   "metadata": {},
   "outputs": [
    {
     "data": {
      "text/plain": [
       "array([240, 138, 458, 232, 142])"
      ]
     },
     "execution_count": 159,
     "metadata": {},
     "output_type": "execute_result"
    }
   ],
   "source": [
    "total=prices.dot(sales.T)\n",
    "total"
   ]
  },
  {
   "cell_type": "code",
   "execution_count": 160,
   "id": "543427af",
   "metadata": {},
   "outputs": [
    {
     "data": {
      "text/html": [
       "<div>\n",
       "<style scoped>\n",
       "    .dataframe tbody tr th:only-of-type {\n",
       "        vertical-align: middle;\n",
       "    }\n",
       "\n",
       "    .dataframe tbody tr th {\n",
       "        vertical-align: top;\n",
       "    }\n",
       "\n",
       "    .dataframe thead th {\n",
       "        text-align: right;\n",
       "    }\n",
       "</style>\n",
       "<table border=\"1\" class=\"dataframe\">\n",
       "  <thead>\n",
       "    <tr style=\"text-align: right;\">\n",
       "      <th></th>\n",
       "      <th>mon</th>\n",
       "      <th>tue</th>\n",
       "      <th>wed</th>\n",
       "      <th>thr</th>\n",
       "      <th>fri</th>\n",
       "    </tr>\n",
       "  </thead>\n",
       "  <tbody>\n",
       "    <tr>\n",
       "      <th>Prices</th>\n",
       "      <td>240</td>\n",
       "      <td>138</td>\n",
       "      <td>458</td>\n",
       "      <td>232</td>\n",
       "      <td>142</td>\n",
       "    </tr>\n",
       "  </tbody>\n",
       "</table>\n",
       "</div>"
      ],
      "text/plain": [
       "        mon  tue  wed  thr  fri\n",
       "Prices  240  138  458  232  142"
      ]
     },
     "execution_count": 160,
     "metadata": {},
     "output_type": "execute_result"
    }
   ],
   "source": [
    "daily_sales=nut_price.dot(weekly_sales.T)\n",
    "daily_sales"
   ]
  },
  {
   "cell_type": "code",
   "execution_count": 161,
   "id": "e4b40291",
   "metadata": {},
   "outputs": [
    {
     "data": {
      "text/plain": [
       "(1, 5)"
      ]
     },
     "execution_count": 161,
     "metadata": {},
     "output_type": "execute_result"
    }
   ],
   "source": [
    "daily_sales.shape"
   ]
  },
  {
   "cell_type": "code",
   "execution_count": 162,
   "id": "17880985",
   "metadata": {},
   "outputs": [
    {
     "data": {
      "text/html": [
       "<div>\n",
       "<style scoped>\n",
       "    .dataframe tbody tr th:only-of-type {\n",
       "        vertical-align: middle;\n",
       "    }\n",
       "\n",
       "    .dataframe tbody tr th {\n",
       "        vertical-align: top;\n",
       "    }\n",
       "\n",
       "    .dataframe thead th {\n",
       "        text-align: right;\n",
       "    }\n",
       "</style>\n",
       "<table border=\"1\" class=\"dataframe\">\n",
       "  <thead>\n",
       "    <tr style=\"text-align: right;\">\n",
       "      <th></th>\n",
       "      <th>almond</th>\n",
       "      <th>peanut</th>\n",
       "      <th>cashew</th>\n",
       "      <th>Total</th>\n",
       "    </tr>\n",
       "  </thead>\n",
       "  <tbody>\n",
       "    <tr>\n",
       "      <th>mon</th>\n",
       "      <td>12</td>\n",
       "      <td>15</td>\n",
       "      <td>0</td>\n",
       "      <td>240</td>\n",
       "    </tr>\n",
       "    <tr>\n",
       "      <th>tue</th>\n",
       "      <td>3</td>\n",
       "      <td>3</td>\n",
       "      <td>7</td>\n",
       "      <td>138</td>\n",
       "    </tr>\n",
       "    <tr>\n",
       "      <th>wed</th>\n",
       "      <td>9</td>\n",
       "      <td>19</td>\n",
       "      <td>18</td>\n",
       "      <td>458</td>\n",
       "    </tr>\n",
       "    <tr>\n",
       "      <th>thr</th>\n",
       "      <td>4</td>\n",
       "      <td>6</td>\n",
       "      <td>12</td>\n",
       "      <td>232</td>\n",
       "    </tr>\n",
       "    <tr>\n",
       "      <th>fri</th>\n",
       "      <td>1</td>\n",
       "      <td>6</td>\n",
       "      <td>7</td>\n",
       "      <td>142</td>\n",
       "    </tr>\n",
       "  </tbody>\n",
       "</table>\n",
       "</div>"
      ],
      "text/plain": [
       "     almond  peanut  cashew  Total\n",
       "mon      12      15       0    240\n",
       "tue       3       3       7    138\n",
       "wed       9      19      18    458\n",
       "thr       4       6      12    232\n",
       "fri       1       6       7    142"
      ]
     },
     "execution_count": 162,
     "metadata": {},
     "output_type": "execute_result"
    }
   ],
   "source": [
    "weekly_sales[\"Total\"]=daily_sales.T\n",
    "weekly_sales"
   ]
  },
  {
   "cell_type": "markdown",
   "id": "305db69b",
   "metadata": {},
   "source": [
    "### comparting operators"
   ]
  },
  {
   "cell_type": "code",
   "execution_count": 163,
   "id": "40c0d327",
   "metadata": {},
   "outputs": [
    {
     "data": {
      "text/plain": [
       "(array([[1, 2, 3],\n",
       "        [4, 5, 6]]),\n",
       " array([[1, 2, 3, 4],\n",
       "        [5, 6, 7, 8]]))"
      ]
     },
     "execution_count": 163,
     "metadata": {},
     "output_type": "execute_result"
    }
   ],
   "source": [
    "a1,a2"
   ]
  },
  {
   "cell_type": "code",
   "execution_count": 164,
   "id": "41a73b4f",
   "metadata": {},
   "outputs": [
    {
     "data": {
      "text/plain": [
       "array([[False, False, False],\n",
       "       [False, False, False]])"
      ]
     },
     "execution_count": 164,
     "metadata": {},
     "output_type": "execute_result"
    }
   ],
   "source": [
    "a1>a2[ :,:3]"
   ]
  },
  {
   "cell_type": "code",
   "execution_count": 165,
   "id": "e71a4036",
   "metadata": {},
   "outputs": [
    {
     "data": {
      "text/plain": [
       "array([[False, False, False],\n",
       "       [ True,  True,  True]])"
      ]
     },
     "execution_count": 165,
     "metadata": {},
     "output_type": "execute_result"
    }
   ],
   "source": [
    "a1<a2[:,:3]"
   ]
  },
  {
   "cell_type": "code",
   "execution_count": 166,
   "id": "ccf107f8",
   "metadata": {},
   "outputs": [
    {
     "data": {
      "text/plain": [
       "array([[ True,  True,  True],\n",
       "       [ True,  True,  True]])"
      ]
     },
     "execution_count": 166,
     "metadata": {},
     "output_type": "execute_result"
    }
   ],
   "source": [
    "a1==a1"
   ]
  },
  {
   "cell_type": "markdown",
   "id": "cdb429b2",
   "metadata": {},
   "source": [
    "### sorting array"
   ]
  },
  {
   "cell_type": "code",
   "execution_count": 167,
   "id": "c7c32b56",
   "metadata": {},
   "outputs": [
    {
     "data": {
      "text/plain": [
       "array([[7, 8, 1, 5, 9],\n",
       "       [8, 9, 4, 3, 0],\n",
       "       [3, 5, 0, 2, 3]])"
      ]
     },
     "execution_count": 167,
     "metadata": {},
     "output_type": "execute_result"
    }
   ],
   "source": [
    "random=np.random.randint(10,size=(3,5))\n",
    "random"
   ]
  },
  {
   "cell_type": "code",
   "execution_count": 168,
   "id": "7cbbf9b0",
   "metadata": {},
   "outputs": [
    {
     "data": {
      "text/plain": [
       "array([[1, 5, 7, 8, 9],\n",
       "       [0, 3, 4, 8, 9],\n",
       "       [0, 2, 3, 3, 5]])"
      ]
     },
     "execution_count": 168,
     "metadata": {},
     "output_type": "execute_result"
    }
   ],
   "source": [
    "np.sort(random)"
   ]
  },
  {
   "cell_type": "code",
   "execution_count": 169,
   "id": "8fe2f5e3",
   "metadata": {},
   "outputs": [
    {
     "data": {
      "text/plain": [
       "array([[2, 3, 0, 1, 4],\n",
       "       [4, 3, 2, 0, 1],\n",
       "       [2, 3, 0, 4, 1]])"
      ]
     },
     "execution_count": 169,
     "metadata": {},
     "output_type": "execute_result"
    }
   ],
   "source": [
    "np.argsort(random)"
   ]
  },
  {
   "cell_type": "code",
   "execution_count": 170,
   "id": "04cf415e",
   "metadata": {},
   "outputs": [
    {
     "data": {
      "text/plain": [
       "array([1, 1, 1, 0, 0])"
      ]
     },
     "execution_count": 170,
     "metadata": {},
     "output_type": "execute_result"
    }
   ],
   "source": [
    "np.argmax(random,axis=0)"
   ]
  },
  {
   "cell_type": "code",
   "execution_count": 171,
   "id": "065b2fb9",
   "metadata": {},
   "outputs": [
    {
     "data": {
      "text/plain": [
       "array([4, 1, 1])"
      ]
     },
     "execution_count": 171,
     "metadata": {},
     "output_type": "execute_result"
    }
   ],
   "source": [
    "np.argmax(random,axis=1)"
   ]
  },
  {
   "cell_type": "markdown",
   "id": "c535a549",
   "metadata": {},
   "source": [
    "<img src=\"Python-logo-notext.svg.png\"/>"
   ]
  },
  {
   "cell_type": "code",
   "execution_count": 172,
   "id": "f445b950",
   "metadata": {},
   "outputs": [],
   "source": [
    "#turn image into an numpy array\n",
    "from matplotlib.image import imread"
   ]
  },
  {
   "cell_type": "code",
   "execution_count": 173,
   "id": "8ff02879",
   "metadata": {},
   "outputs": [
    {
     "data": {
      "text/plain": [
       "numpy.ndarray"
      ]
     },
     "execution_count": 173,
     "metadata": {},
     "output_type": "execute_result"
    }
   ],
   "source": [
    "python=imread(\"Python-logo-notext.svg.png\")\n",
    "type(python)"
   ]
  },
  {
   "cell_type": "code",
   "execution_count": 174,
   "id": "8d86f572",
   "metadata": {},
   "outputs": [
    {
     "data": {
      "text/plain": [
       "(15310848, (2048, 1869, 4), 3)"
      ]
     },
     "execution_count": 174,
     "metadata": {},
     "output_type": "execute_result"
    }
   ],
   "source": [
    "python.size,python.shape,python.ndim"
   ]
  },
  {
   "cell_type": "code",
   "execution_count": 175,
   "id": "1799bbbb",
   "metadata": {},
   "outputs": [
    {
     "data": {
      "text/plain": [
       "array([[[0., 0., 0., 0.],\n",
       "        [0., 0., 0., 0.],\n",
       "        [0., 0., 0., 0.],\n",
       "        ...,\n",
       "        [0., 0., 0., 0.],\n",
       "        [0., 0., 0., 0.],\n",
       "        [0., 0., 0., 0.]],\n",
       "\n",
       "       [[0., 0., 0., 0.],\n",
       "        [0., 0., 0., 0.],\n",
       "        [0., 0., 0., 0.],\n",
       "        ...,\n",
       "        [0., 0., 0., 0.],\n",
       "        [0., 0., 0., 0.],\n",
       "        [0., 0., 0., 0.]],\n",
       "\n",
       "       [[0., 0., 0., 0.],\n",
       "        [0., 0., 0., 0.],\n",
       "        [0., 0., 0., 0.],\n",
       "        ...,\n",
       "        [0., 0., 0., 0.],\n",
       "        [0., 0., 0., 0.],\n",
       "        [0., 0., 0., 0.]],\n",
       "\n",
       "       ...,\n",
       "\n",
       "       [[0., 0., 0., 0.],\n",
       "        [0., 0., 0., 0.],\n",
       "        [0., 0., 0., 0.],\n",
       "        ...,\n",
       "        [0., 0., 0., 0.],\n",
       "        [0., 0., 0., 0.],\n",
       "        [0., 0., 0., 0.]],\n",
       "\n",
       "       [[0., 0., 0., 0.],\n",
       "        [0., 0., 0., 0.],\n",
       "        [0., 0., 0., 0.],\n",
       "        ...,\n",
       "        [0., 0., 0., 0.],\n",
       "        [0., 0., 0., 0.],\n",
       "        [0., 0., 0., 0.]],\n",
       "\n",
       "       [[0., 0., 0., 0.],\n",
       "        [0., 0., 0., 0.],\n",
       "        [0., 0., 0., 0.],\n",
       "        ...,\n",
       "        [0., 0., 0., 0.],\n",
       "        [0., 0., 0., 0.],\n",
       "        [0., 0., 0., 0.]]], dtype=float32)"
      ]
     },
     "execution_count": 175,
     "metadata": {},
     "output_type": "execute_result"
    }
   ],
   "source": [
    "python"
   ]
  },
  {
   "cell_type": "code",
   "execution_count": null,
   "id": "dced853f",
   "metadata": {},
   "outputs": [],
   "source": []
  }
 ],
 "metadata": {
  "kernelspec": {
   "display_name": "Python 3 (ipykernel)",
   "language": "python",
   "name": "python3"
  },
  "language_info": {
   "codemirror_mode": {
    "name": "ipython",
    "version": 3
   },
   "file_extension": ".py",
   "mimetype": "text/x-python",
   "name": "python",
   "nbconvert_exporter": "python",
   "pygments_lexer": "ipython3",
   "version": "3.11.4"
  }
 },
 "nbformat": 4,
 "nbformat_minor": 5
}
